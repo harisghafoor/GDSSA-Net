{
 "cells": [
  {
   "cell_type": "code",
   "execution_count": 1,
   "metadata": {},
   "outputs": [],
   "source": [
    "## Image Contours and Dilated Images"
   ]
  },
  {
   "cell_type": "code",
   "execution_count": 2,
   "metadata": {},
   "outputs": [],
   "source": [
    "import os\n",
    "import numpy as np\n",
    "import cv2\n",
    "import torch\n",
    "from torch.utils.data import Dataset\n",
    "import matplotlib.pyplot as plt"
   ]
  },
  {
   "cell_type": "code",
   "execution_count": 6,
   "metadata": {},
   "outputs": [
    {
     "name": "stdout",
     "output_type": "stream",
     "text": [
      "Images saved successfully.\n"
     ]
    }
   ],
   "source": [
    "\n",
    "import cv2\n",
    "import numpy as np\n",
    "\n",
    "def dilate_contour_mask(mask_path, kernel_sizes):\n",
    "    # Read the original mask\n",
    "    original_mask = cv2.imread(mask_path, cv2.IMREAD_GRAYSCALE)\n",
    "    if original_mask is None:\n",
    "        raise ValueError(\"Could not read the mask image at the given path.\")\n",
    "    \n",
    "    # Generate the contour mask\n",
    "    contours, _ = cv2.findContours(original_mask, cv2.RETR_EXTERNAL, cv2.CHAIN_APPROX_SIMPLE)\n",
    "    contour_mask = np.zeros_like(original_mask)\n",
    "    cv2.drawContours(contour_mask, contours, -1, 255, 1)\n",
    "    \n",
    "    # Dilate the contour mask with different kernel sizes and fill the gaps\n",
    "    dilated_contour_masks = []\n",
    "    for kernel_size in kernel_sizes:\n",
    "        kernel = np.ones((kernel_size, kernel_size), np.uint8)\n",
    "        dilated_mask = cv2.dilate(contour_mask, kernel, iterations=1)\n",
    "        # Invert mask to fill gaps\n",
    "        inverted_dilated_mask = cv2.bitwise_not(dilated_mask)\n",
    "        # Dilate inverted mask to fill the gaps\n",
    "        dilated_filled_mask = cv2.bitwise_not(cv2.dilate(inverted_dilated_mask, kernel, iterations=1))\n",
    "        dilated_filled_mask = np.minimum(dilated_mask, original_mask)\n",
    "\n",
    "        dilated_contour_masks.append(dilated_filled_mask)\n",
    "    \n",
    "    return contour_mask, dilated_contour_masks\n",
    "\n",
    "if __name__ == \"__main__\":\n",
    "    # import sys\n",
    "    # if len(sys.argv) != 5:\n",
    "    #     print(\"Usage: python dilate_masks.py mask_path kernel_size_1 kernel_size_2 kernel_size_3\")\n",
    "    #     sys.exit(1)\n",
    "\n",
    "    # mask_path = sys.argv[1]\n",
    "    kernel_sizes = [33,59,81]\n",
    "    \n",
    "    contour_mask, dilated_masks = dilate_contour_mask(\"./datasets/Thyroid Dataset/tn3k/trainval-mask/0044.jpg\", kernel_sizes)\n",
    "    \n",
    "    # Save the results\n",
    "    cv2.imwrite(\"contour_mask.png\", contour_mask)\n",
    "    for i, dilated_mask in enumerate(dilated_masks, 1):\n",
    "        # plt.imshow(\"contour_mask_{i}.png\", dilated_mask)\n",
    "        cv2.imwrite(f\"dilated_mask_{i}_new.png\", dilated_mask)\n",
    "    print(\"Images saved successfully.\")\n"
   ]
  },
  {
   "cell_type": "code",
   "execution_count": 4,
   "metadata": {},
   "outputs": [
    {
     "data": {
      "text/plain": [
       "numpy.ndarray"
      ]
     },
     "execution_count": 4,
     "metadata": {},
     "output_type": "execute_result"
    }
   ],
   "source": [
    "type(np.array(dilated_mask))"
   ]
  }
 ],
 "metadata": {
  "kernelspec": {
   "display_name": "cv_seg",
   "language": "python",
   "name": "python3"
  },
  "language_info": {
   "codemirror_mode": {
    "name": "ipython",
    "version": 3
   },
   "file_extension": ".py",
   "mimetype": "text/x-python",
   "name": "python",
   "nbconvert_exporter": "python",
   "pygments_lexer": "ipython3",
   "version": "3.11.6"
  }
 },
 "nbformat": 4,
 "nbformat_minor": 2
}
